{
 "cells": [
  {
   "cell_type": "code",
   "id": "initial_id",
   "metadata": {
    "collapsed": true,
    "ExecuteTime": {
     "end_time": "2024-10-31T09:07:23.221667Z",
     "start_time": "2024-10-31T09:07:23.205842Z"
    }
   },
   "source": [
    "# Redefine state values as 0\n",
    "V = {\n",
    "    \"Facebook\": 0,\n",
    "    \"Class 1\": 0,\n",
    "    \"Class 2\": 0,\n",
    "    \"Class 3\": 0,\n",
    "    \"Pub\": 0,\n",
    "    \"Pass\": 0,  \n",
    "    \"Sleep\": 0   #terminate state\n",
    "}\n",
    "\n",
    "gamma = 0.9\n",
    "threshold = 0.001  # Convergence threshold\n",
    "\n",
    "# Value iteration\n",
    "def value_iteration(V, gamma, threshold):\n",
    "    delta = float('inf')\n",
    "    while delta > threshold:   #loop until delta > threshold\n",
    "        delta = 0\n",
    "        V_old = V.copy()       \n",
    "        V[\"Facebook\"] = 0.9 * (-1 + gamma * V_old[\"Facebook\"]) + 0.1 * (-1 + gamma * V_old[\"Class 1\"])\n",
    "        V[\"Class 1\"] = 0.5 * (-2 + gamma * V_old[\"Class 2\"]) + 0.5 * (-2 + gamma * V_old[\"Facebook\"])\n",
    "        V[\"Class 2\"] = 0.2 * (-2 + gamma * V_old[\"Sleep\"]) + 0.8 * (-2 + gamma * V_old[\"Class 3\"])\n",
    "        V[\"Class 3\"] = 0.6 * (-2 + gamma * V_old[\"Pass\"]) + 0.4 * (-2 + gamma * V_old[\"Pub\"])\n",
    "        V[\"Pub\"] = 0.2 * (1 + gamma * V_old[\"Class 1\"]) + 0.4 * (1 + gamma * V_old[\"Class 2\"]) + 0.4 * (1 + gamma * V_old[\"Class 3\"])\n",
    "        V[\"Pass\"] = 10 + gamma * V_old[\"Sleep\"]  # Update each state value\n",
    "        delta = max(delta, max(abs(V[s] - V_old[s]) for s in V))# Calculate the maximum change(delta) in value\n",
    "    return V\n",
    "\n",
    "V_final = value_iteration(V, gamma, threshold)\n",
    "V_final\n"
   ],
   "outputs": [
    {
     "data": {
      "text/plain": [
       "{'Facebook': -7.631949946209425,\n",
       " 'Class 1': -5.009590059631876,\n",
       " 'Class 2': 0.9429949774771363,\n",
       " 'Class 3': 4.0874269397907526,\n",
       " 'Pub': 1.9093614225570108,\n",
       " 'Pass': 10.0,\n",
       " 'Sleep': 0}"
      ]
     },
     "execution_count": 3,
     "metadata": {},
     "output_type": "execute_result"
    }
   ],
   "execution_count": 3
  },
  {
   "metadata": {
    "ExecuteTime": {
     "end_time": "2024-10-31T08:56:55.555362Z",
     "start_time": "2024-10-31T08:56:55.470978Z"
    }
   },
   "cell_type": "code",
   "source": [
    "import numpy as np\n",
    "\n",
    "# define states and actions\n",
    "states = ['St1', 'St2', 'St3', 'St4',  'End'] \n",
    "actions = {\n",
    "    'St1': ['ToSt1', 'ToSt2'],\n",
    "    'St2': ['ToSt1', 'ToSt3'],\n",
    "    'St3': ['ToEnd', 'ToSt4'],\n",
    "    'St4': ['ToEnd', 'ToPub'],\n",
    "}\n",
    "\n",
    "# reward\n",
    "R = {\n",
    "    ('St1', 'ToSt1'): -1,\n",
    "    ('St1', 'ToSt2'): 0,\n",
    "    ('St2', 'ToSt1'): -1,\n",
    "    ('St2', 'ToSt3'): -2,\n",
    "    ('St3', 'ToEnd'): 0,\n",
    "    ('St3', 'ToSt4'): -2,\n",
    "    ('St4', 'ToEnd'): 10,\n",
    "    ('St4', 'ToPub'): 1,\n",
    "}\n",
    "\n",
    "# P(s'|s, a) = 1\n",
    "P = {\n",
    "    ('St1', 'ToSt1'): {'St1': 1.0},\n",
    "    ('St1', 'ToSt2'): {'St2': 1.0},\n",
    "    ('St2', 'ToSt1'): {'St1': 1.0},\n",
    "    ('St2', 'ToSt3'): {'St3': 1.0},\n",
    "    ('St3', 'ToEnd'): {'End': 1.0},\n",
    "    ('St3', 'ToSt4'): {'St4': 1.0},\n",
    "    ('St4', 'ToEnd'): {'End': 1.0},\n",
    "    ('St4', 'ToPub'): {'St2': 0.2, 'St3': 0.4, 'St4': 0.4} \n",
    "}\n",
    "\n",
    "gamma = 0.9\n",
    "\n",
    "# Initialize Q\n",
    "Q = {}\n",
    "for state in states:\n",
    "    for action in actions.get(state, []):\n",
    "        Q[(state, action)] = 0\n",
    "\n",
    "# iterate and updata Q\n",
    "def update_q_values(Q, R, P, gamma, states, actions, max_iterations=1000, tolerance=1e-6):\n",
    "    for _ in range(max_iterations):\n",
    "        delta = 0\n",
    "        new_Q = Q.copy()\n",
    "        for state in states:\n",
    "            for action in actions.get(state, []):\n",
    "                if (state, action) in R:\n",
    "                    expected_value = sum(\n",
    "                        P[(state, action)][next_state] * \n",
    "                        (max(Q[(next_state, a)] for a in actions.get(next_state, [])) if actions.get(next_state) else 0)\n",
    "                        for next_state in P[(state, action)]\n",
    "                    )\n",
    "                    new_Q[(state, action)] = R[(state, action)] + gamma * expected_value\n",
    "                    delta = max(delta, abs(new_Q[(state, action)] - Q[(state, action)]))\n",
    "        Q = new_Q\n",
    "        if delta < tolerance:\n",
    "            break\n",
    "    return Q\n",
    "\n",
    "Q = update_q_values(Q, R, P, gamma, states, actions)\n",
    "\n",
    "#output the result\n",
    "for state in states:\n",
    "    for action in actions.get(state, []):\n",
    "        print(f\"Q({state}, {action}) = {Q[(state, action)]}\")\n"
   ],
   "id": "b1bcc5e761b80db8",
   "outputs": [
    {
     "name": "stdout",
     "output_type": "stream",
     "text": [
      "Q(St1, ToSt1) = 2.483\n",
      "Q(St1, ToSt2) = 3.87\n",
      "Q(St2, ToSt1) = 2.483\n",
      "Q(St2, ToSt3) = 4.3\n",
      "Q(St3, ToEnd) = 0.0\n",
      "Q(St3, ToSt4) = 7.0\n",
      "Q(St4, ToEnd) = 10.0\n",
      "Q(St4, ToPub) = 7.894\n"
     ]
    }
   ],
   "execution_count": 1
  }
 ],
 "metadata": {
  "kernelspec": {
   "display_name": "ml",
   "language": "python",
   "name": "ml"
  },
  "language_info": {
   "codemirror_mode": {
    "name": "ipython",
    "version": 2
   },
   "file_extension": ".py",
   "mimetype": "text/x-python",
   "name": "python",
   "nbconvert_exporter": "python",
   "pygments_lexer": "ipython2",
   "version": "2.7.6"
  }
 },
 "nbformat": 4,
 "nbformat_minor": 5
}
